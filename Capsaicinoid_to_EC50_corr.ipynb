{
 "cells": [
  {
   "cell_type": "markdown",
   "metadata": {},
   "source": [
    "## Import Packages"
   ]
  },
  {
   "cell_type": "code",
   "execution_count": 1,
   "metadata": {},
   "outputs": [],
   "source": [
    "import pandas as pd\n",
    "import seaborn as sns\n",
    "from matplotlib import rcParams\n",
    "from sklearn.preprocessing import MinMaxScaler\n",
    "import matplotlib\n",
    "import numpy as np\n",
    "from scipy.stats import spearmanr\n",
    "from sklearn.linear_model import LinearRegression\n",
    "import matplotlib.pyplot as plt\n"
   ]
  },
  {
   "cell_type": "markdown",
   "metadata": {},
   "source": [
    "## Import needed Files"
   ]
  },
  {
   "cell_type": "code",
   "execution_count": 2,
   "metadata": {},
   "outputs": [],
   "source": [
    "quant = pd.read_csv(\"Data/cap_manu/input/40_varieties_final_quant_no_cap_or_di.csv\")\n",
    "quant = quant.rename(columns={c: c.split('_')[2] for c in quant.columns if 'Peak area' in c})\n",
    "quant_area = quant[[c for c in quant.columns if c.startswith('S')] + ['row ID']]\n",
    "\n",
    "sirius = pd.read_csv(\"Data/cap_manu/input/canopus_compound_summary_40_varieties.tsv\", usecols = ['featureId','NPC#class'], sep= '\\t')\n",
    "\n",
    "sample_names = pd.read_excel('Data/cap_manu/input/sample_names.xlsx')\n",
    "\n",
    "EC50 = pd.read_excel('Data/cap_manu/input/chili_EC50_new.xlsx')"
   ]
  },
  {
   "cell_type": "code",
   "execution_count": null,
   "metadata": {},
   "outputs": [],
   "source": [
    "#merging SIRIUS and Quant table to obtain NPC_Class for prediction\n",
    "quant_area.rename(columns={'row ID':'featureId'}, inplace=True)\n",
    "table= pd.merge(quant_area, sirius, on='featureId', how='left')\n",
    "table"
   ]
  },
  {
   "cell_type": "markdown",
   "metadata": {},
   "source": [
    "## Analysis with only one class"
   ]
  },
  {
   "cell_type": "markdown",
   "metadata": {},
   "source": [
    "Select the compound class of interest"
   ]
  },
  {
   "cell_type": "code",
   "execution_count": 4,
   "metadata": {},
   "outputs": [],
   "source": [
    "# Prompt the user to input specific row IDs\n",
    "selected_row_ids = input('Enter NPC#Class' )\n",
    "# Capsaicins and Capsaicinoids\n",
    "# Reduce the DataFrame to the selected row IDs\n",
    "reduced_table = table[table['NPC#class'].astype(str).str.contains(selected_row_ids)]"
   ]
  },
  {
   "cell_type": "code",
   "execution_count": null,
   "metadata": {},
   "outputs": [],
   "source": [
    "#remove NPC class from table\n",
    "final_table =reduced_table[[c for c in reduced_table.columns if c.startswith('S')]]\n",
    "final_table = final_table[sorted(final_table.columns, key=lambda c: int(c[1:]))]\n",
    "\n",
    "#Use next line if you want common name\n",
    "#final_table.columns = final_table.columns.map(sample_names.set_index('Sample')['Common Name'])\n",
    "\n",
    "final_table"
   ]
  },
  {
   "cell_type": "markdown",
   "metadata": {},
   "source": [
    "Create a sum intesity of all feature for a given SIRIUS class"
   ]
  },
  {
   "cell_type": "code",
   "execution_count": 6,
   "metadata": {},
   "outputs": [],
   "source": [
    "# create a row of sum intensity (axis=1 is row)\n",
    "sum_intensity = final_table.sum()\n",
    "#.loc adds it to the row\n",
    "final_table.loc['SumIntensity'] = sum_intensity\n",
    "# final_table\n",
    "\n",
    "final_table_t = final_table.T\n",
    "final_table_t = final_table_t.reset_index()\n",
    "final_table_t.columns = ['Sample'] + list(final_table_t.columns[1:])\n",
    "\n",
    "# Keep only the 'Sample' and 'LogSumIntensity' columns\n",
    "final_table_t = final_table_t[['Sample', 'SumIntensity']]\n",
    "\n",
    "log_SI = np.log(final_table_t['SumIntensity'])\n",
    "final_table_t['Log SumIntensity'] = log_SI\n",
    "\n",
    "# final_table_t"
   ]
  },
  {
   "cell_type": "markdown",
   "metadata": {},
   "source": [
    "Merge MS data with ED50 data"
   ]
  },
  {
   "cell_type": "code",
   "execution_count": null,
   "metadata": {},
   "outputs": [],
   "source": [
    "#combine EC data with metabolomic data\n",
    "EC_sum = pd.merge(EC50,final_table_t, on = 'Sample')\n",
    "EC_sum"
   ]
  },
  {
   "cell_type": "markdown",
   "metadata": {},
   "source": [
    "Correlation and plotting with Subset (can be skipped)"
   ]
  },
  {
   "cell_type": "code",
   "execution_count": null,
   "metadata": {},
   "outputs": [],
   "source": [
    "# EC_sum_subset = EC_sum[EC_sum['log EC50 (ug/ml)'] < 1]\n",
    "# EC_sum_subset['log_si'].corr(EC_sum_subset['log EC50 (ug/ml)'])"
   ]
  },
  {
   "cell_type": "markdown",
   "metadata": {},
   "source": [
    "Removed outliers (can be skipped)"
   ]
  },
  {
   "cell_type": "code",
   "execution_count": null,
   "metadata": {},
   "outputs": [],
   "source": [
    "# Removing outliers \n",
    "filt_EC_sum = EC_sum[~EC_sum['Sample'].isin(['S7', 'S25'])]\n",
    "\n",
    "# Calculate Pearson correlation after filtering\n",
    "pearson = filt_EC_sum['Log SumIntensity'].corr(filt_EC_sum['-logIC50'])\n",
    "print(pearson)"
   ]
  },
  {
   "cell_type": "code",
   "execution_count": null,
   "metadata": {},
   "outputs": [],
   "source": [
    "#plotting with removed_outliers\n",
    "sns.regplot(x=filt_EC_sum['Log SumIntensity'], y=filt_EC_sum['-EC5_old'])\n",
    "pearson = filt_EC_sum['Log SumIntensity'].corr(filt_EC_sum['-EC5_old'])\n",
    "\n",
    "plt.title('Pearson Correlation of Crude Extract ED50 Values and Capsaicinoid Content')\n",
    "plt.ylabel('-Log ED50')\n",
    "plt.xlabel('Log Sum Intensity of all Capsaicinoid features')\n",
    "\n",
    "plt.text(0.01,-0.01, f'Pearson Correlation {pearson:.2f}',bbox=dict(facecolor='red', alpha=0.5))\n",
    "\n",
    "plt.savefig('Data/cap_manu/ED50VSCapsaicinoids_noCap.svg')\n",
    "plt.show()"
   ]
  },
  {
   "cell_type": "markdown",
   "metadata": {},
   "source": [
    "plotting data without removal of outlier"
   ]
  },
  {
   "cell_type": "code",
   "execution_count": null,
   "metadata": {},
   "outputs": [],
   "source": [
    "# Calculate Spearman's correlation between 'LogSumIntensity' and 'Scoville Units'\n",
    "correlation, p_value = spearmanr(EC_sum['Log SumIntensity'], EC_sum['logIC50'])\n",
    "\n",
    "#Calculate pearson correlation\n",
    "EC_sum['Log SumIntensity'].corr(EC_sum['logIC50'])\n",
    "\n",
    "# Print the correlation value\n",
    "print(\"Spearman's correlation between SumIntensity and ec50:\", correlation)"
   ]
  },
  {
   "cell_type": "code",
   "execution_count": null,
   "metadata": {},
   "outputs": [],
   "source": [
    "#plotting with all data\n",
    "sns.regplot(x=EC_sum['Log SumIntensity'], y=EC_sum['-EC5_old'])\n",
    "pearson = EC_sum['Log SumIntensity'].corr(EC_sum['-EC5_old'])\n",
    "\n",
    "plt.title('Pearson Correlation of Crude Extract EC50 Values and Capsaicinoid Content')\n",
    "plt.ylabel('-Log ED50')\n",
    "plt.xlabel('Log Sum Intensity of all Capsaicinoid features')\n",
    "\n",
    "plt.text(0.01,-0.01, f'Pearson Correlation {pearson:.2f}',bbox=dict(facecolor='red', alpha=0.5))\n",
    "\n",
    "plt.savefig('Data/cap_manu/test.svg')\n",
    "plt.show()"
   ]
  },
  {
   "cell_type": "markdown",
   "metadata": {},
   "source": [
    "## All compounds but the selected class"
   ]
  },
  {
   "cell_type": "code",
   "execution_count": 56,
   "metadata": {},
   "outputs": [],
   "source": [
    "# Prompt the user to input specific row IDs\n",
    "# selected_row_ids = input('Enter NPC#Class' )\n",
    "# Capsaicins and Capsaicinoids\n",
    "# Reduce the DataFrame to the selected row IDs\n",
    "minus_table = table[~table['NPC#class'].astype(str).str.contains(selected_row_ids)]\n",
    "#remove NPC class from table\n",
    "minus_table_r  =minus_table[[c for c in minus_table.columns if c.startswith('S')]]\n",
    "minus_table_r = minus_table[sorted(minus_table_r .columns, key=lambda c: int(c[1:]))]\n",
    "\n"
   ]
  },
  {
   "cell_type": "code",
   "execution_count": null,
   "metadata": {},
   "outputs": [],
   "source": [
    "\n",
    "si = minus_table_r.sum()\n",
    "minus_table_r.loc['SumIntensity'] = si\n",
    "minus_table_t = minus_table_r.T\n",
    "minus_table_t = minus_table_t.reset_index()\n",
    "minus_table_t.columns = ['Sample'] + list(minus_table_t.columns[1:])\n",
    "# Keep only the 'Sample' and 'LogSumIntensity' columns\n",
    "minus_table_t['log_si']= np.log(minus_table_t[['SumIntensity']])\n",
    "# quant_t = quant_t[['Sample', 'SumIntensity']]"
   ]
  },
  {
   "cell_type": "code",
   "execution_count": null,
   "metadata": {},
   "outputs": [],
   "source": [
    "EC_sum_minus = pd.merge(EC50,minus_table_t, on = 'Sample')\n",
    "EC_sum_minus"
   ]
  },
  {
   "cell_type": "code",
   "execution_count": null,
   "metadata": {},
   "outputs": [],
   "source": [
    "EC_sum_minus['log_si'].corr(EC_sum_minus['-logIC50'])"
   ]
  },
  {
   "cell_type": "code",
   "execution_count": null,
   "metadata": {},
   "outputs": [],
   "source": [
    "sns.regplot(x=EC_sum_minus['log_si'], y=EC_sum_minus['-EC50'])\n",
    "pearson = EC_sum_minus['log_si'].corr(EC_sum_minus['-EC50'])\n",
    "plt.title('Pearson Correlation: Crude Extract EC50 and non-Capsaicinoid Features')\n",
    "plt.ylabel('-Log EC50')\n",
    "plt.xlabel('Log Sum Intensity of all non-Capsaicinoid features')\n",
    "\n",
    "plt.text(20,-0.5, f'Pearson Correlation {pearson:.2f}',bbox=dict(facecolor='red', alpha=0.5))\n",
    "\n",
    "plt.savefig('Data/cap_manu/minus_caps_ec50.svg')\n",
    "plt.show()"
   ]
  },
  {
   "cell_type": "markdown",
   "metadata": {},
   "source": [
    "## All compounds"
   ]
  },
  {
   "cell_type": "code",
   "execution_count": null,
   "metadata": {},
   "outputs": [],
   "source": [
    "quant_r =quant[[c for c in quant.columns if c.startswith('S')]]\n",
    "si = quant_r.sum()\n",
    "quant_r.loc['SumIntensity'] = si\n",
    "quant_t = quant_r.T\n",
    "quant_t = quant_t.reset_index()\n",
    "quant_t.columns = ['Sample'] + list(quant_t.columns[1:])\n",
    "# Keep only the 'Sample' and 'LogSumIntensity' columns\n",
    "quant_t['log_si']= np.log(quant_t[['SumIntensity']])"
   ]
  },
  {
   "cell_type": "code",
   "execution_count": null,
   "metadata": {},
   "outputs": [],
   "source": [
    "EC_sum_all = pd.merge(EC50,quant_t, on = 'Sample')\n",
    "EC_sum_all"
   ]
  },
  {
   "cell_type": "code",
   "execution_count": null,
   "metadata": {},
   "outputs": [],
   "source": [
    "# Calculate Spearman's correlation between 'LogSumIntensity' and 'Scoville Units'\n",
    "correlation, p_value = spearmanr(EC_sum_all['log_si'], EC_sum_all['EC50'])\n",
    "\n",
    "# Print the correlation value\n",
    "print(\"Spearman's correlation between SumIntensity and ec50:\", correlation)"
   ]
  },
  {
   "cell_type": "code",
   "execution_count": null,
   "metadata": {},
   "outputs": [],
   "source": [
    "EC_sum_all['log_si'].corr(EC_sum_all['EC50'])"
   ]
  },
  {
   "cell_type": "code",
   "execution_count": null,
   "metadata": {},
   "outputs": [],
   "source": []
  }
 ],
 "metadata": {
  "kernelspec": {
   "display_name": "base",
   "language": "python",
   "name": "python3"
  },
  "language_info": {
   "codemirror_mode": {
    "name": "ipython",
    "version": 3
   },
   "file_extension": ".py",
   "mimetype": "text/x-python",
   "name": "python",
   "nbconvert_exporter": "python",
   "pygments_lexer": "ipython3",
   "version": "3.8.16"
  }
 },
 "nbformat": 4,
 "nbformat_minor": 2
}
