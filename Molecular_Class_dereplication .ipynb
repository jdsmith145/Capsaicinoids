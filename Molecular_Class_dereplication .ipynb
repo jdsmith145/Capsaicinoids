{
 "cells": [
  {
   "attachments": {},
   "cell_type": "markdown",
   "metadata": {},
   "source": [
    "## Import packages and other dataframes"
   ]
  },
  {
   "cell_type": "code",
   "execution_count": null,
   "metadata": {},
   "outputs": [],
   "source": [
    "import pandas as pd\n",
    "from SPARQLWrapper import SPARQLWrapper, JSON\n",
    "import requests\n",
    "import pubchempy as pcp\n",
    "import unicodedata\n",
    "from bs4 import BeautifulSoup\n"
   ]
  },
  {
   "attachments": {},
   "cell_type": "markdown",
   "metadata": {},
   "source": [
    "# searching wikidata for compounds from a specific speceies"
   ]
  },
  {
   "cell_type": "markdown",
   "metadata": {},
   "source": [
    "Search is based on wikidata search using the capsicinoid code wd:Q20918454. This code can be changed for different molecular classes"
   ]
  },
  {
   "cell_type": "code",
   "execution_count": null,
   "metadata": {},
   "outputs": [],
   "source": [
    "def search_species_taxon():\n",
    "    endpoint_url = \"https://query.wikidata.org/sparql\"\n",
    "    sparql = SPARQLWrapper(endpoint_url)\n",
    "    query = \"\"\"#title: Which organisms contain capsaicinoid scaffolds?\n",
    "SELECT ?structure ?structureLabel ?structure_inchikey ?structure_smiles_canonical ?structure_smiles_isomeric ?taxon ?taxon_name ?reference ?reference_doi ?chemical_formula WHERE {\n",
    "  VALUES ?SUBSTRUCTURE {\n",
    "    wd:Q20918454\n",
    "  }\n",
    "  ?structure wdt:P279 ?SUBSTRUCTURE.\n",
    "  hint:Prior hint:runFirst \"true\"^^xsd:boolean.\n",
    "  ?structure p:P703 ?statement;\n",
    "    wdt:P233 ?structure_smiles_canonical;\n",
    "    wdt:P235 ?structure_inchikey;\n",
    "    wdt:P274 ?chemical_formula.\n",
    "  OPTIONAL { ?structure wdt:P2017 ?structure_smiles_isomeric. }\n",
    "  ?statement ps:P703 ?taxon.\n",
    "  ?taxon wdt:P225 ?taxon_name.\n",
    "  ?statement (prov:wasDerivedFrom/pr:P248) ?reference.\n",
    "  ?reference wdt:P356 ?reference_doi.\n",
    "  SERVICE wikibase:label { bd:serviceParam wikibase:language \"[AUTO_LANGUAGE],en\". }\n",
    "}\"\"\"\n",
    "\n",
    "\n",
    "    sparql.setQuery(query)\n",
    "    sparql.setReturnFormat(JSON)\n",
    "    results = sparql.query().convert()\n",
    "    return results[\"results\"][\"bindings\"] #results are stored as results and bindings \n",
    "\n",
    "#results are a list of dictionaries, where we need to sepaarate \n",
    "results = search_species_taxon()\n",
    "\n",
    "cleaned_results = []\n",
    "for row in results:\n",
    "    cleaned_dict = {}\n",
    "    for name, item in row.items():\n",
    "        cleaned_dict[name] = item[\"value\"]\n",
    "        # print(name)\n",
    "        # print(type(item[\"value\"]))\n",
    "    cleaned_results.append(cleaned_dict)\n",
    "\n",
    "\n",
    "wiki_df = pd.DataFrame.from_dict(cleaned_results)\n",
    "\n"
   ]
  },
  {
   "cell_type": "code",
   "execution_count": null,
   "metadata": {},
   "outputs": [],
   "source": [
    "wiki_df = pd.DataFrame(cleaned_results)\n",
    "# wiki_df"
   ]
  },
  {
   "cell_type": "markdown",
   "metadata": {},
   "source": [
    "## Reducing duplicate entries based on split InChiKey"
   ]
  },
  {
   "cell_type": "markdown",
   "metadata": {},
   "source": [
    "Only the first data value is kept, this will remove information from the reference DOI. If more information is needed go back orignial dataframe."
   ]
  },
  {
   "cell_type": "code",
   "execution_count": null,
   "metadata": {},
   "outputs": [],
   "source": [
    "# Split the InChIKeys and create a new column\n",
    "wiki_df['InChIKey_Split'] = wiki_df['structure_inchikey'].str.split('-').str[0]\n",
    "\n",
    "\n",
    "# Drop duplicate rows based on the 'SMILES' column\n",
    "wiki_df_uni= wiki_df.drop_duplicates(subset='InChIKey_Split', keep='first', ignore_index=True)\n",
    "\n",
    "\n",
    "# Print the unique DataFrame\n",
    "# wiki_df_uni\n"
   ]
  },
  {
   "cell_type": "code",
   "execution_count": null,
   "metadata": {},
   "outputs": [],
   "source": [
    "#notmalize all string to account utf-8 molecular formulas \n",
    "def normalize_string(string):\n",
    "    normalized_string = \"\"\n",
    "    for char in string:\n",
    "        normalized_char = unicodedata.normalize('NFKD', char).encode('ascii', 'ignore').decode('utf-8')\n",
    "        if normalized_char.isalnum():\n",
    "            normalized_string += normalized_char\n",
    "    return normalized_string\n",
    "\n",
    "# Assuming 'Molecular Formula' is a column in the 'wiki_df_short' DataFrame\n",
    "wiki_df_uni['chemical_formula'] = wiki_df_uni['chemical_formula'].apply(normalize_string)\n",
    "\n",
    "wiki_df_uni.rename(columns={'chemical_formula': 'Molecular Formula','structure_smiles_canonical':'Database_SMILES'}, inplace=True)"
   ]
  },
  {
   "cell_type": "code",
   "execution_count": null,
   "metadata": {},
   "outputs": [],
   "source": [
    "wiki_df_uni.to_csv('Data/Dereplication/Capsaicinoid_dereplication/Output/wiki_df_uni.csv', index=False)"
   ]
  },
  {
   "attachments": {},
   "cell_type": "markdown",
   "metadata": {},
   "source": [
    "# Import tables form reaxys"
   ]
  },
  {
   "attachments": {},
   "cell_type": "markdown",
   "metadata": {},
   "source": [
    "Note: currently waiting to hear about getting rexays API access \n",
    "\n",
    "When exporting, select Excel and hit data, I used range for the exact number f moleucles found and include structure. If you exclude structure you do not obtain the SMILES in the export"
   ]
  },
  {
   "cell_type": "code",
   "execution_count": null,
   "metadata": {},
   "outputs": [],
   "source": [
    "rex_df = pd.read_excel('Data/Dereplication/Capsaicinoid_dereplication/Input/Reaxys_Cap.xlsx', usecols=['SMILES', 'Chemical Name','Molecular Formula','InChI Key','Isolated from Natural Source','References' ])\n",
    "# rex_df"
   ]
  },
  {
   "cell_type": "code",
   "execution_count": null,
   "metadata": {},
   "outputs": [],
   "source": [
    "#split inchi keys, keeping only the first half\n",
    "rex_df['InChIKey_Split'] = rex_df['InChI Key'].str.split('-').str[0]\n",
    "\n",
    "rex_df.rename(columns={'SMILES': 'Database_SMILES'}, inplace=True)\n",
    "rex_df"
   ]
  },
  {
   "cell_type": "code",
   "execution_count": null,
   "metadata": {},
   "outputs": [],
   "source": [
    "\n",
    "# Drop duplicate rows based on the 'SMILES' column\n",
    "rex_df_uni = rex_df.drop_duplicates(subset='InChIKey_Split', keep='first', ignore_index=True)\n",
    "rex_df_uni.dropna(inplace=True)\n",
    "rex_df_uni"
   ]
  },
  {
   "cell_type": "code",
   "execution_count": null,
   "metadata": {},
   "outputs": [],
   "source": [
    "rex_df_uni.to_csv('Data/Dereplication/Capsaicinoid_dereplication/Output/rexays_df_uni.csv', index=False)"
   ]
  },
  {
   "attachments": {},
   "cell_type": "markdown",
   "metadata": {},
   "source": [
    "# Merging and cleaning database table"
   ]
  },
  {
   "cell_type": "code",
   "execution_count": null,
   "metadata": {},
   "outputs": [],
   "source": [
    "rex_df_uni = pd.read_csv('Data/Dereplication/Capsaicinoid_dereplication/Output/rexays_df_uni.csv', usecols={'Database_SMILES', 'Chemical Name','Molecular Formula','InChI Key','InChIKey_Split','Isolated from Natural Source','References'})\n",
    "\n",
    "wiki_df_uni = pd.read_csv('Data/Dereplication/Capsaicinoid_dereplication/Output/wiki_df_uni.csv')"
   ]
  },
  {
   "cell_type": "code",
   "execution_count": null,
   "metadata": {},
   "outputs": [],
   "source": [
    "# Merge the data frames on 'InChIKey_Split'\n",
    "database_df = pd.merge(rex_df_uni, wiki_df_uni, on=[ 'Molecular Formula', 'InChIKey_Split'], how='outer')\n",
    "database_df"
   ]
  },
  {
   "cell_type": "code",
   "execution_count": null,
   "metadata": {},
   "outputs": [],
   "source": [
    "database_df['Database_SMILES'] = database_df['Database_SMILES_x'].combine_first(database_df['Database_SMILES_y'])\n",
    "database_df['InChI Key']= database_df['InChI Key'].combine_first(database_df['structure_inchikey'])\n",
    "database_df['Chemical Name']= database_df['Chemical Name'].combine_first(database_df['structureLabel'])\n",
    "database_df['Isolated from Natural Source']= database_df['Isolated from Natural Source'].combine_first(database_df['taxon_name'])\n",
    "database_df['References']= database_df['References'].combine_first(database_df['reference_doi'])"
   ]
  },
  {
   "cell_type": "code",
   "execution_count": null,
   "metadata": {},
   "outputs": [],
   "source": [
    "database_df.to_csv('Data/Dereplication/Capsaicinoid_dereplication/Output/database_df.csv', columns={'Database_SMILES', 'Chemical Name','Molecular Formula','InChI Key','Isolated from Natural Source','References'})"
   ]
  },
  {
   "cell_type": "markdown",
   "metadata": {},
   "source": [
    "After export, ensure that all entries make sense. It is possible that some compounds obtained from Wikidata do not make sense for your current analysis."
   ]
  },
  {
   "cell_type": "markdown",
   "metadata": {},
   "source": [
    "## Group columns on Molecular Formula due to isomers"
   ]
  },
  {
   "cell_type": "code",
   "execution_count": null,
   "metadata": {},
   "outputs": [],
   "source": [
    "#read final database file after manual cleaning\n",
    "database_df = pd.read_csv('Data/Dereplication/Capsaicinoid_dereplication/Output/database_df.csv')"
   ]
  },
  {
   "cell_type": "code",
   "execution_count": null,
   "metadata": {},
   "outputs": [],
   "source": [
    "#convert dataframe to string for grouping\n",
    "database_df = database_df.astype(str)\n",
    "\n",
    "\n",
    "concat_database_df = database_df.groupby('Molecular Formula',as_index=False).agg(lambda x: ';'.join(x.unique()))\n",
    "\n",
    "\n",
    "# Assuming 'column_name' is the name of the column you want to split\n",
    "concat_database_df['Database_SMILES_First_Entry'] = concat_database_df['Database_SMILES'].str.split(';').str[0]\n",
    "\n",
    "concat_database_df.drop(columns=['Unnamed: 0'], inplace=True)\n",
    "# concat_database_df"
   ]
  },
  {
   "cell_type": "code",
   "execution_count": null,
   "metadata": {},
   "outputs": [],
   "source": [
    "concat_database_df.to_csv('Data/Dereplication/Capsaicinoid_dereplication/Output/Capsaicinoids_database_final.csv', index=False, encoding='utf-8-sig',)"
   ]
  },
  {
   "cell_type": "code",
   "execution_count": null,
   "metadata": {},
   "outputs": [],
   "source": []
  }
 ],
 "metadata": {
  "kernelspec": {
   "display_name": "my-rdkit-env",
   "language": "python",
   "name": "python3"
  },
  "language_info": {
   "codemirror_mode": {
    "name": "ipython",
    "version": 3
   },
   "file_extension": ".py",
   "mimetype": "text/x-python",
   "name": "python",
   "nbconvert_exporter": "python",
   "pygments_lexer": "ipython3",
   "version": "3.11.3"
  },
  "orig_nbformat": 4
 },
 "nbformat": 4,
 "nbformat_minor": 2
}
