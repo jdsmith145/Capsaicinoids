{
 "cells": [
  {
   "cell_type": "code",
   "execution_count": 1,
   "metadata": {},
   "outputs": [],
   "source": [
    "import pandas as pd"
   ]
  },
  {
   "cell_type": "code",
   "execution_count": 4,
   "metadata": {},
   "outputs": [],
   "source": [
    "# read the SIRIUS output file into a pandas dataframe\n",
    "df = pd.read_csv(\"Data/cap_manu/input/canopus_compound_summary_40_varieties.tsv\", sep='\\t')"
   ]
  },
  {
   "cell_type": "code",
   "execution_count": 6,
   "metadata": {},
   "outputs": [
    {
     "name": "stdout",
     "output_type": "stream",
     "text": [
      "122;134;180;202;237;243;246;249;253;254;256;259;260;265;270;272;274;275;277;285;288;301;302;304;311;316;317;321;323;327;337;344;346;349;355;358;373;377;405;407;421;424;432;433;437;438;441;448;453;461;469;482;495;530;545;551;558;576;579;588;590;594;603;607;615;616;619;621;622;626;645;651;665;672;673;686;691;692;703;705;706;715;791;818;913;923;930;948;1117\n"
     ]
    }
   ],
   "source": [
    "\n",
    "# define the NPC#class to search for\n",
    "class_to_search = \"Capsaicins and Capsaicinoids\"\n",
    "\n",
    "# get a list of IDs corresponding to the specified NPC#class\n",
    "id_list = df.loc[df[\"NPC#class\"] == class_to_search, \"featureId\"].astype(str).tolist()\n",
    "\n",
    "# join the list of IDs into a semicolon-separated string\n",
    "id_string = \";\".join(id_list)\n",
    "\n",
    "# print the resulting string to the console\n",
    "print(id_string)"
   ]
  },
  {
   "cell_type": "code",
   "execution_count": null,
   "metadata": {},
   "outputs": [],
   "source": []
  }
 ],
 "metadata": {
  "kernelspec": {
   "display_name": "Python 3 (ipykernel)",
   "language": "python",
   "name": "python3"
  },
  "language_info": {
   "codemirror_mode": {
    "name": "ipython",
    "version": 3
   },
   "file_extension": ".py",
   "mimetype": "text/x-python",
   "name": "python",
   "nbconvert_exporter": "python",
   "pygments_lexer": "ipython3",
   "version": "3.11.3"
  }
 },
 "nbformat": 4,
 "nbformat_minor": 4
}
