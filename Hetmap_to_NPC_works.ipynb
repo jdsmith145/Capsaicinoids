{
 "cells": [
  {
   "cell_type": "code",
   "execution_count": 1,
   "metadata": {},
   "outputs": [],
   "source": [
    "import pandas as pd\n",
    "import seaborn as sns\n",
    "from matplotlib import rcParams\n",
    "from sklearn.preprocessing import MinMaxScaler\n",
    "import matplotlib\n",
    "import numpy as np\n",
    "import scipy\n",
    "import matplotlib as plt\n",
    "import matplotlib.patches as patches"
   ]
  },
  {
   "cell_type": "markdown",
   "metadata": {},
   "source": [
    "# Import needed files"
   ]
  },
  {
   "cell_type": "code",
   "execution_count": 2,
   "metadata": {},
   "outputs": [],
   "source": [
    "quant = pd.read_csv(\"Data/cap_manu/input/40_varieties_final_quant.csv\")\n",
    "quant = quant.rename(columns={c: c.split('_')[2] for c in quant.columns if 'Peak area' in c})\n",
    "quant_area = quant[[c for c in quant.columns if c.startswith('S')] + ['row ID']]\n",
    "sirius = pd.read_csv(\"Data/cap_manu/input/canopus_compound_summary_40_varieties.tsv\", usecols = ['featureId','NPC#class'], sep= '\\t')\n",
    "sample_names = pd.read_excel('Data/cap_manu/input/sample_names.xlsx')"
   ]
  },
  {
   "cell_type": "markdown",
   "metadata": {},
   "source": [
    "Merge SIRIUS predictions with feature quantification table"
   ]
  },
  {
   "cell_type": "code",
   "execution_count": null,
   "metadata": {},
   "outputs": [],
   "source": [
    "quant_area.rename(columns={'row ID':'featureId'}, inplace=True)\n",
    "table= pd.merge(quant_area, sirius, on='featureId', how='left')\n",
    "#table"
   ]
  },
  {
   "cell_type": "markdown",
   "metadata": {},
   "source": [
    "Select class wanted to cluster"
   ]
  },
  {
   "cell_type": "code",
   "execution_count": 6,
   "metadata": {},
   "outputs": [],
   "source": [
    "# Prompt the user to input specific row IDs\n",
    "selected_row_ids = input('Enter NPC#Class' )\n",
    "#Capsaicins and Capsaicinoids\n",
    "# Reduce the DataFrame to the selected row IDs\n",
    "reduced_table = table[table['NPC#class'].astype(str).str.contains(selected_row_ids)]"
   ]
  },
  {
   "cell_type": "code",
   "execution_count": null,
   "metadata": {},
   "outputs": [],
   "source": [
    "final_table = reduced_table[[c for c in reduced_table.columns if c.startswith('S')]]\n",
    "final_table = final_table[sorted(final_table.columns, key=lambda c: int(c[1:]))]\n",
    "final_table.columns = final_table.columns.map(sample_names.set_index('Sample')['Common Name'])\n",
    "final_table"
   ]
  },
  {
   "cell_type": "markdown",
   "metadata": {},
   "source": [
    "Normalizing based most intense feature per sample"
   ]
  },
  {
   "cell_type": "code",
   "execution_count": 25,
   "metadata": {},
   "outputs": [],
   "source": [
    "# log 2 transformation of the data\n",
    "no_zero_f_t=final_table.replace(0,1e-6)\n",
    "log_final_table=np.log2(no_zero_f_t)\n",
    "log_final_table=log_final_table.round(5)\n",
    "log_final_table= log_final_table.replace(-19.93157,0)\n",
    "\n",
    "# log 10 transofrmationn of the data\n",
    "# no_zero_f_t=final_table.replace(0,1e-6)\n",
    "# log_final_table=np.log10(no_zero_f_t)\n",
    "# log_final_table= log_final_table.replace(1e-6,0)"
   ]
  },
  {
   "cell_type": "markdown",
   "metadata": {},
   "source": [
    "Creating a test heatmap"
   ]
  },
  {
   "cell_type": "code",
   "execution_count": null,
   "metadata": {},
   "outputs": [],
   "source": [
    "rcParams['figure.figsize'] = 12, 8\n",
    "#corr = final_table.corr()\n",
    "\n",
    "#Normalize the data using Min-Max normalization\n",
    "#scaler = MinMaxScaler()\n",
    "#normalized_data = scaler.fit_transform(final_table)\n",
    "\n",
    "# Normalize the data per row\n",
    "normalized_df = log_final_table.div(log_final_table.max(axis=0), axis=1)\n",
    "\n",
    "# Generate a heatmap\n",
    "sns.heatmap(normalized_df, linewidth=0.5, cmap='viridis')\n"
   ]
  },
  {
   "cell_type": "markdown",
   "metadata": {},
   "source": [
    "Transpose datafram and create a color palet for the different species"
   ]
  },
  {
   "cell_type": "code",
   "execution_count": 28,
   "metadata": {},
   "outputs": [],
   "source": [
    "# transpose df\n",
    "normalized_df_t = normalized_df.transpose()\n",
    "\n",
    "# Add 'Species' column\n",
    "species = [sample_names.loc[sample_names['Common Name'] == common_name].Species.values[0] for common_name in normalized_df.columns]\n",
    "normalized_df_t = normalized_df_t.assign(Species = species)"
   ]
  },
  {
   "cell_type": "code",
   "execution_count": 29,
   "metadata": {},
   "outputs": [],
   "source": [
    "# Prepare colors: https://stackoverflow.com/questions/34334796/setting-col-colors-in-seaborn-clustermap-from-pandas\n",
    "network_pal = sns.color_palette(['red', 'blue', 'green', 'orange', 'purple'], len(normalized_df_t.Species.unique()))\n",
    "network_lut = dict(zip(normalized_df_t.Species.unique(), network_pal))\n",
    "networks = normalized_df_t.Species\n",
    "network_colors = pd.Series(networks).map(network_lut)"
   ]
  },
  {
   "cell_type": "markdown",
   "metadata": {},
   "source": [
    "Plot final heatmap and clustering"
   ]
  },
  {
   "cell_type": "code",
   "execution_count": null,
   "metadata": {},
   "outputs": [],
   "source": [
    "plt.rcParams['font.family'] = 'Arial'\n",
    "g = sns.clustermap(normalized_df_t[normalized_df_t.columns[0:-1]],\n",
    "                   col_cluster=False,\n",
    "                   cmap=\"cividis\",\n",
    "                   vmin=0,\n",
    "                   figsize=(10, 15),\n",
    "                   xticklabels=False,\n",
    "                   row_colors=network_colors)\n",
    "sns.set(font_scale=1.2)\n",
    "\n",
    "ax = g.ax_heatmap\n",
    "\n",
    "# highlighted_columns = [50, 56]  # columns to highlight (0-based index)\n",
    "# for col in highlighted_columns:\n",
    "#     rect = patches.Rectangle((col, 0), 1, normalized_df_t.shape[0], linewidth=1, edgecolor='none', facecolor='red', alpha=0.3)\n",
    "#     ax.add_patch(rect)\n",
    "    \n",
    "ax.set_xlabel('SIRIUS predicted Capsaicinoids', family='Arial')\n",
    "g.savefig('Data/cap_manu/heat_map_Column_log2norm.svg')"
   ]
  },
  {
   "cell_type": "code",
   "execution_count": null,
   "metadata": {},
   "outputs": [],
   "source": [
    "normalized_vec = [i for i in normalized_df.index]\n",
    "type(normalized_vec)\n",
    "normalized_vec.index(121)"
   ]
  },
  {
   "cell_type": "code",
   "execution_count": null,
   "metadata": {},
   "outputs": [],
   "source": [
    "\n",
    "pd.set_option('display.max_rows', None)\n",
    "normalized_df"
   ]
  },
  {
   "cell_type": "code",
   "execution_count": null,
   "metadata": {},
   "outputs": [],
   "source": []
  }
 ],
 "metadata": {
  "kernelspec": {
   "display_name": "base",
   "language": "python",
   "name": "python3"
  },
  "language_info": {
   "codemirror_mode": {
    "name": "ipython",
    "version": 3
   },
   "file_extension": ".py",
   "mimetype": "text/x-python",
   "name": "python",
   "nbconvert_exporter": "python",
   "pygments_lexer": "ipython3",
   "version": "3.8.16"
  }
 },
 "nbformat": 4,
 "nbformat_minor": 2
}
