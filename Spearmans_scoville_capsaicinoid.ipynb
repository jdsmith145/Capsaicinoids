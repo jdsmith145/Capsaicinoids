{
 "cells": [
  {
   "cell_type": "code",
   "execution_count": null,
   "metadata": {},
   "outputs": [],
   "source": [
    "import pandas as pd\n",
    "import numpy as np\n",
    "from scipy.stats import spearmanr\n",
    "import matplotlib.pyplot as plt\n",
    "from scipy.stats import pearsonr\n",
    "import seaborn as sns\n"
   ]
  },
  {
   "cell_type": "markdown",
   "metadata": {},
   "source": [
    "## Importining of scovile data and feature data"
   ]
  },
  {
   "cell_type": "markdown",
   "metadata": {},
   "source": [
    "Sample chips (S10) was removed from analysis due to the lack of Scoville information"
   ]
  },
  {
   "cell_type": "code",
   "execution_count": null,
   "metadata": {},
   "outputs": [],
   "source": [
    "scoville_df = pd.read_excel('Data/All_Chili_samples/input/chilis_and_scoville.xlsx')\n",
    "scoville_df"
   ]
  },
  {
   "cell_type": "code",
   "execution_count": null,
   "metadata": {},
   "outputs": [],
   "source": [
    "\n",
    "# Read the CSV file with selected columns\n",
    "df = pd.read_csv('Data/cap_manu/input/40_varieties_final_quant.csv', usecols=lambda col: 'row ID' in col or 'Peak area' in col)\n",
    "df = df.rename(columns={c: c.split('_')[2] for c in df.columns if 'Peak area' in c})\n",
    "df = df.drop(columns=['S10'])\n",
    "df\n"
   ]
  },
  {
   "cell_type": "markdown",
   "metadata": {},
   "source": [
    "## Selecting features identified as capsaicinoids"
   ]
  },
  {
   "cell_type": "markdown",
   "metadata": {},
   "source": [
    "122;134;180;202;237;243;246;249;253;254;256;259;260;265;270;272;274;275;277;285;288;301;302;304;311;316;317;321;323;327;337;344;346;349;355;358;373;377;405;407;421;424;432;433;437;438;441;448;453;461;469;482;495;530;545;551;558;576;579;588;590;594;603;607;615;616;619;621;622;626;645;651;665;672;673;686;691;692;703;705;706;715;791;818;913;923;930;948;1117"
   ]
  },
  {
   "cell_type": "code",
   "execution_count": null,
   "metadata": {},
   "outputs": [],
   "source": [
    "# Prompt the user to input specific row IDs\n",
    "selected_row_ids = input(\"Enter specific row IDs (comma-separated): \").split(';')\n",
    "\n",
    "# Reduce the DataFrame to the selected row IDs\n",
    "reduced_df = df[df['row ID'].astype(str).isin(selected_row_ids)]\n",
    "\n",
    "reduced_df"
   ]
  },
  {
   "cell_type": "markdown",
   "metadata": {},
   "source": [
    "## Taking sumintensitiy of the features of all features for a given sample"
   ]
  },
  {
   "cell_type": "code",
   "execution_count": null,
   "metadata": {},
   "outputs": [],
   "source": [
    "sum_intensity = reduced_df.iloc[:, 1:].sum(axis=0)  # Exclude the 'row ID' column\n",
    "\n",
    "# Take the logarithm of the sum intensity values\n",
    "#log_sum_intensity = (sum_intensity)\n",
    "\n",
    "# Append the 'LogSumIntensity' row to the DataFrame\n",
    "reduced_df.loc['SumIntensity'] = sum_intensity\n",
    "\n",
    "reduced_df"
   ]
  },
  {
   "cell_type": "code",
   "execution_count": null,
   "metadata": {},
   "outputs": [],
   "source": [
    "# reduced_df.sum(axis=0)"
   ]
  },
  {
   "cell_type": "code",
   "execution_count": null,
   "metadata": {},
   "outputs": [],
   "source": [
    "# column_sums = np.sum(reduced_df, axis=0)\n",
    "# column_sums"
   ]
  },
  {
   "cell_type": "code",
   "execution_count": null,
   "metadata": {},
   "outputs": [],
   "source": [
    "transposed_df = reduced_df.T\n",
    "\n",
    "# Reset the index and rename the columns\n",
    "transposed_df = transposed_df.reset_index()\n",
    "transposed_df.columns = ['Sample'] + list(transposed_df.columns[1:])\n",
    "\n",
    "# Remove the 'row ID' row\n",
    "transposed_df = transposed_df[transposed_df['Sample'] != 'row ID']\n",
    "\n",
    "# Keep only the 'Sample' and 'LogSumIntensity' columns\n",
    "transposed_df = transposed_df[['Sample', 'SumIntensity']]\n",
    "\n",
    "\n",
    "transposed_df"
   ]
  },
  {
   "cell_type": "markdown",
   "metadata": {},
   "source": [
    "## Combining the scovile units with the sum feature intesity table and calculating the spearman p value"
   ]
  },
  {
   "cell_type": "code",
   "execution_count": null,
   "metadata": {},
   "outputs": [],
   "source": [
    "# Combine the two dataframes based on the 'Sample' column\n",
    "combined_df = pd.merge(transposed_df, scoville_df, on='Sample')\n",
    "\n",
    "# Convert 'LogSumIntensity' column to numeric type\n",
    "combined_df['SumIntensity'] = pd.to_numeric(combined_df['SumIntensity'], errors='coerce')\n",
    "combined_df['Scoville Units'] = pd.to_numeric(combined_df['Scoville Units'], errors='coerce')\n",
    "\n",
    "# Calculate Spearman's correlation between 'LogSumIntensity' and 'Scoville Units'\n",
    "correlation, p_value = spearmanr(combined_df['SumIntensity'], combined_df['Scoville Units'])\n",
    "\n",
    "# Print the correlation value\n",
    "print(\"Spearman's correlation between SumIntensity and Scoville Units:\", correlation)"
   ]
  },
  {
   "cell_type": "code",
   "execution_count": null,
   "metadata": {},
   "outputs": [],
   "source": [
    "combined_df"
   ]
  },
  {
   "cell_type": "code",
   "execution_count": null,
   "metadata": {},
   "outputs": [],
   "source": [
    "# Check for missing or non-numeric values in 'LogSumIntensity' and 'Scoville Units' columns\n",
    "missing_values = combined_df['LogSumIntensity'].isnull() | combined_df['Scoville Units'].isnull()\n",
    "non_numeric_values = ~combined_df['LogSumIntensity'].apply(pd.to_numeric, errors='coerce').notnull() | \\\n",
    "                     ~combined_df['Scoville Units'].apply(pd.to_numeric, errors='coerce').notnull()\n",
    "\n",
    "# Print the rows with missing or non-numeric values\n",
    "print(\"Rows with missing or non-numeric values:\")\n",
    "print(combined_df[missing_values | non_numeric_values])"
   ]
  },
  {
   "cell_type": "markdown",
   "metadata": {},
   "source": [
    "## Plotting the data"
   ]
  },
  {
   "cell_type": "code",
   "execution_count": null,
   "metadata": {},
   "outputs": [],
   "source": [
    "\n",
    "# Combine the two dataframes based on the 'Sample' column\n",
    "combined_df = pd.merge(transposed_df, scoville_df, on='Sample')\n",
    "\n",
    "# Convert 'LogSumIntensity' column to numeric type\n",
    "combined_df['SumIntensity'] = pd.to_numeric(combined_df['SumIntensity'], errors='coerce')\n",
    "combined_df['Scoville Units'] = pd.to_numeric(combined_df['Scoville Units'], errors='coerce')\n",
    "\n",
    "# Calculate Spearman's correlation between 'LogSumIntensity' and 'Scoville Units'\n",
    "correlation, p_value = spearmanr(combined_df['SumIntensity'], combined_df['Scoville Units'])\n",
    "print(\"Spearman's correlation between Capsaicin and Dihydrocapq and Scoville Units:\", correlation)\n",
    "\n",
    "# Create a scatter plot\n",
    "plt.figure(figsize=(8, 6))\n",
    "plt.scatter(combined_df['SumIntensity'], combined_df['Scoville Units'], s=30, alpha=0.5)\n",
    "plt.plot(correlation, p_value, color='red')\n",
    "plt.xlabel('SumIntensity')\n",
    "plt.ylabel('Scoville Units')\n",
    "plt.text(150000,3500000, f'p-value Spearmans {correlation:.2f}',bbox=dict(facecolor='red', alpha=0.5))\n",
    "\n",
    "\n",
    "\n",
    "# Set logarithmic scale for the axes\n",
    "plt.xscale('log')\n",
    "plt.xlim(left=100000) #set to 1 to avoid log(0) error\n",
    "plt.yscale('log')\n",
    "plt.ylim(bottom=1) #set to 1 to avoid log(0) error\n",
    "plt.title('Scatter Plot: Capsaicinoid Sum Intensity vs. Scoville Units')\n",
    "plt.grid(True)\n",
    "# plt.show()\n",
    "plt.savefig(\"Data/All_Chili_samples/output/scatter_plot.svg\", format='svg') #plt.show before will cause it not to save properly as it reoves the plot from memory"
   ]
  }
 ],
 "metadata": {
  "kernelspec": {
   "display_name": "base",
   "language": "python",
   "name": "python3"
  },
  "language_info": {
   "codemirror_mode": {
    "name": "ipython",
    "version": 3
   },
   "file_extension": ".py",
   "mimetype": "text/x-python",
   "name": "python",
   "nbconvert_exporter": "python",
   "pygments_lexer": "ipython3",
   "version": "3.8.16"
  },
  "orig_nbformat": 4
 },
 "nbformat": 4,
 "nbformat_minor": 2
}
