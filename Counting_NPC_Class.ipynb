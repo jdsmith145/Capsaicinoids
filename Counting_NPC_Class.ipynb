{
 "cells": [
  {
   "cell_type": "code",
   "execution_count": null,
   "metadata": {},
   "outputs": [],
   "source": [
    "import pandas as pd\n",
    "import numpy as np\n",
    "import matplotlib.pyplot as plt"
   ]
  },
  {
   "cell_type": "code",
   "execution_count": null,
   "metadata": {},
   "outputs": [],
   "source": [
    "# read the SIRIUS output file into a pandas dataframe\n",
    "df = pd.read_table('Data/cap_manu/input/canopus_compound_summary_40_varieties.tsv', sep='\\t')\n",
    "df"
   ]
  },
  {
   "cell_type": "code",
   "execution_count": null,
   "metadata": {},
   "outputs": [],
   "source": [
    "# group the dataframe by NPC#class and count the number of occurrences of each class\n",
    "class_counts = df.groupby(\"NPC#class\")[\"featureId\"].count().reset_index()\n",
    "\n",
    "# sort the class counts in descending order\n",
    "class_counts = class_counts.sort_values(\"featureId\", ascending=False)\n",
    "\n",
    "# print the class counts to the console\n",
    "print(class_counts)\n",
    "\n",
    "class_counts.to_excel(\"Data/cap_manu/output/allchilis_reanal_classs_counts.xlsx\", index=False)"
   ]
  },
  {
   "cell_type": "code",
   "execution_count": null,
   "metadata": {},
   "outputs": [],
   "source": [
    "# Count the total occurrences of each unique entry in the \"NPC#class\" column\n",
    "class_counts = df[\"NPC#class\"].value_counts().reset_index()\n",
    "\n",
    "# Rename columns for clarity\n",
    "class_counts.columns = [\"NPC#class\", \"Total\"]\n",
    "\n",
    "total_count = class_counts['Total'].sum()\n",
    "\n",
    "class_counts['Percentage'] = (class_counts['Total']/total_count) *100\n",
    "\n",
    "# Print the class counts to the console\n",
    "print(class_counts)"
   ]
  },
  {
   "cell_type": "code",
   "execution_count": null,
   "metadata": {},
   "outputs": [],
   "source": [
    "# Selecting the top 5 NPC classes by percentage\n",
    "top_5_classes = class_counts.nlargest(5, 'Percentage')\n",
    "\n",
    "# Plotting\n",
    "plt.figure(figsize=(10, 8))\n",
    "plt.bar(top_5_classes['NPC#class'], top_5_classes['Percentage'], color='skyblue')\n",
    "\n",
    "# Adding labels and title\n",
    "plt.xlabel('NPC Class')\n",
    "plt.ylabel('Percentage')\n",
    "plt.title('Top 5 NPC Classes by Percentage')\n",
    "plt.xticks(rotation=40 )  # Rotate x-axis labels for better readability\n",
    "\n",
    "# Adding legend\n",
    "plt.legend(['Percentage'])\n",
    "\n",
    "# Show plot\n",
    "plt.tight_layout()\n",
    "plt.show()"
   ]
  },
  {
   "cell_type": "code",
   "execution_count": null,
   "metadata": {},
   "outputs": [],
   "source": []
  },
  {
   "cell_type": "code",
   "execution_count": null,
   "metadata": {},
   "outputs": [],
   "source": []
  }
 ],
 "metadata": {
  "kernelspec": {
   "display_name": "Python 3 (ipykernel)",
   "language": "python",
   "name": "python3"
  },
  "language_info": {
   "codemirror_mode": {
    "name": "ipython",
    "version": 3
   },
   "file_extension": ".py",
   "mimetype": "text/x-python",
   "name": "python",
   "nbconvert_exporter": "python",
   "pygments_lexer": "ipython3",
   "version": "3.11.3"
  }
 },
 "nbformat": 4,
 "nbformat_minor": 4
}
